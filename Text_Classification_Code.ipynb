{
 "cells": [
  {
   "cell_type": "markdown",
   "id": "4b3968c6",
   "metadata": {},
   "source": [
    "## Load Dataset"
   ]
  },
  {
   "cell_type": "code",
   "execution_count": 2,
   "id": "9c7dc517",
   "metadata": {},
   "outputs": [],
   "source": [
    "import pandas as pd\n",
    "import re\n",
    "import string\n",
    "import nltk\n",
    "from nltk.corpus import stopwords\n",
    "from nltk.stem.porter import PorterStemmer"
   ]
  },
  {
   "cell_type": "code",
   "execution_count": 3,
   "id": "c869416d",
   "metadata": {},
   "outputs": [
    {
     "data": {
      "text/html": [
       "<div>\n",
       "<style scoped>\n",
       "    .dataframe tbody tr th:only-of-type {\n",
       "        vertical-align: middle;\n",
       "    }\n",
       "\n",
       "    .dataframe tbody tr th {\n",
       "        vertical-align: top;\n",
       "    }\n",
       "\n",
       "    .dataframe thead th {\n",
       "        text-align: right;\n",
       "    }\n",
       "</style>\n",
       "<table border=\"1\" class=\"dataframe\">\n",
       "  <thead>\n",
       "    <tr style=\"text-align: right;\">\n",
       "      <th></th>\n",
       "      <th>Review</th>\n",
       "      <th>Liked</th>\n",
       "    </tr>\n",
       "  </thead>\n",
       "  <tbody>\n",
       "    <tr>\n",
       "      <th>0</th>\n",
       "      <td>Wow... Loved this place.</td>\n",
       "      <td>1</td>\n",
       "    </tr>\n",
       "    <tr>\n",
       "      <th>1</th>\n",
       "      <td>Crust is not good.</td>\n",
       "      <td>0</td>\n",
       "    </tr>\n",
       "    <tr>\n",
       "      <th>2</th>\n",
       "      <td>Not tasty and the texture was just nasty.</td>\n",
       "      <td>0</td>\n",
       "    </tr>\n",
       "    <tr>\n",
       "      <th>3</th>\n",
       "      <td>Stopped by during the late May bank holiday of...</td>\n",
       "      <td>1</td>\n",
       "    </tr>\n",
       "    <tr>\n",
       "      <th>4</th>\n",
       "      <td>The selection on the menu was great and so wer...</td>\n",
       "      <td>1</td>\n",
       "    </tr>\n",
       "    <tr>\n",
       "      <th>...</th>\n",
       "      <td>...</td>\n",
       "      <td>...</td>\n",
       "    </tr>\n",
       "    <tr>\n",
       "      <th>2215</th>\n",
       "      <td>The staff was untrained and unfamiliar with th...</td>\n",
       "      <td>0</td>\n",
       "    </tr>\n",
       "    <tr>\n",
       "      <th>2216</th>\n",
       "      <td>The portions were skimpy and left us hungry.</td>\n",
       "      <td>0</td>\n",
       "    </tr>\n",
       "    <tr>\n",
       "      <th>2217</th>\n",
       "      <td>The restaurant had unclean restrooms and unple...</td>\n",
       "      <td>0</td>\n",
       "    </tr>\n",
       "    <tr>\n",
       "      <th>2218</th>\n",
       "      <td>The waiters were slow and forgetful with our o...</td>\n",
       "      <td>0</td>\n",
       "    </tr>\n",
       "    <tr>\n",
       "      <th>2219</th>\n",
       "      <td>The food was poorly cooked and tasted burnt.</td>\n",
       "      <td>0</td>\n",
       "    </tr>\n",
       "  </tbody>\n",
       "</table>\n",
       "<p>2220 rows × 2 columns</p>\n",
       "</div>"
      ],
      "text/plain": [
       "                                                 Review  Liked\n",
       "0                              Wow... Loved this place.      1\n",
       "1                                    Crust is not good.      0\n",
       "2             Not tasty and the texture was just nasty.      0\n",
       "3     Stopped by during the late May bank holiday of...      1\n",
       "4     The selection on the menu was great and so wer...      1\n",
       "...                                                 ...    ...\n",
       "2215  The staff was untrained and unfamiliar with th...      0\n",
       "2216      The portions were skimpy and left us hungry.       0\n",
       "2217  The restaurant had unclean restrooms and unple...      0\n",
       "2218  The waiters were slow and forgetful with our o...      0\n",
       "2219      The food was poorly cooked and tasted burnt.       0\n",
       "\n",
       "[2220 rows x 2 columns]"
      ]
     },
     "execution_count": 3,
     "metadata": {},
     "output_type": "execute_result"
    }
   ],
   "source": [
    "df=pd.read_csv(r'C:\\Users\\SPECTRE\\Desktop\\8th SEMESTER\\AML\\Assignments\\A1\\Restaurant_review.csv')\n",
    "df"
   ]
  },
  {
   "cell_type": "code",
   "execution_count": 4,
   "id": "ec9241bf",
   "metadata": {},
   "outputs": [
    {
     "data": {
      "text/plain": [
       "(2220, 2)"
      ]
     },
     "execution_count": 4,
     "metadata": {},
     "output_type": "execute_result"
    }
   ],
   "source": [
    "df.shape"
   ]
  },
  {
   "cell_type": "markdown",
   "id": "a8a09353",
   "metadata": {},
   "source": [
    "## 1. Data Preprocessing "
   ]
  },
  {
   "cell_type": "code",
   "execution_count": 5,
   "id": "0f93028b",
   "metadata": {},
   "outputs": [
    {
     "name": "stdout",
     "output_type": "stream",
     "text": [
      "<class 'pandas.core.frame.DataFrame'>\n",
      "RangeIndex: 2220 entries, 0 to 2219\n",
      "Data columns (total 2 columns):\n",
      " #   Column  Non-Null Count  Dtype \n",
      "---  ------  --------------  ----- \n",
      " 0   Review  2220 non-null   object\n",
      " 1   Liked   2220 non-null   int64 \n",
      "dtypes: int64(1), object(1)\n",
      "memory usage: 34.8+ KB\n"
     ]
    }
   ],
   "source": [
    "df.info()"
   ]
  },
  {
   "cell_type": "code",
   "execution_count": 6,
   "id": "636bd7c9",
   "metadata": {},
   "outputs": [
    {
     "data": {
      "text/html": [
       "<div>\n",
       "<style scoped>\n",
       "    .dataframe tbody tr th:only-of-type {\n",
       "        vertical-align: middle;\n",
       "    }\n",
       "\n",
       "    .dataframe tbody tr th {\n",
       "        vertical-align: top;\n",
       "    }\n",
       "\n",
       "    .dataframe thead th {\n",
       "        text-align: right;\n",
       "    }\n",
       "</style>\n",
       "<table border=\"1\" class=\"dataframe\">\n",
       "  <thead>\n",
       "    <tr style=\"text-align: right;\">\n",
       "      <th></th>\n",
       "      <th>Review</th>\n",
       "      <th>Liked</th>\n",
       "    </tr>\n",
       "  </thead>\n",
       "  <tbody>\n",
       "    <tr>\n",
       "      <th>0</th>\n",
       "      <td>Wow... Loved this place.</td>\n",
       "      <td>1</td>\n",
       "    </tr>\n",
       "    <tr>\n",
       "      <th>1</th>\n",
       "      <td>Crust is not good.</td>\n",
       "      <td>0</td>\n",
       "    </tr>\n",
       "    <tr>\n",
       "      <th>2</th>\n",
       "      <td>Not tasty and the texture was just nasty.</td>\n",
       "      <td>0</td>\n",
       "    </tr>\n",
       "    <tr>\n",
       "      <th>3</th>\n",
       "      <td>Stopped by during the late May bank holiday of...</td>\n",
       "      <td>1</td>\n",
       "    </tr>\n",
       "    <tr>\n",
       "      <th>4</th>\n",
       "      <td>The selection on the menu was great and so wer...</td>\n",
       "      <td>1</td>\n",
       "    </tr>\n",
       "  </tbody>\n",
       "</table>\n",
       "</div>"
      ],
      "text/plain": [
       "                                              Review  Liked\n",
       "0                           Wow... Loved this place.      1\n",
       "1                                 Crust is not good.      0\n",
       "2          Not tasty and the texture was just nasty.      0\n",
       "3  Stopped by during the late May bank holiday of...      1\n",
       "4  The selection on the menu was great and so wer...      1"
      ]
     },
     "execution_count": 6,
     "metadata": {},
     "output_type": "execute_result"
    }
   ],
   "source": [
    "df.head()"
   ]
  },
  {
   "cell_type": "code",
   "execution_count": 7,
   "id": "4ab0194f",
   "metadata": {},
   "outputs": [],
   "source": [
    "#Renaming columns\n",
    "df.rename(columns={'Review':'Text Review','Liked':'Sentiment Labels'},inplace=True)"
   ]
  },
  {
   "cell_type": "code",
   "execution_count": 8,
   "id": "fab9dc50",
   "metadata": {},
   "outputs": [
    {
     "data": {
      "text/html": [
       "<div>\n",
       "<style scoped>\n",
       "    .dataframe tbody tr th:only-of-type {\n",
       "        vertical-align: middle;\n",
       "    }\n",
       "\n",
       "    .dataframe tbody tr th {\n",
       "        vertical-align: top;\n",
       "    }\n",
       "\n",
       "    .dataframe thead th {\n",
       "        text-align: right;\n",
       "    }\n",
       "</style>\n",
       "<table border=\"1\" class=\"dataframe\">\n",
       "  <thead>\n",
       "    <tr style=\"text-align: right;\">\n",
       "      <th></th>\n",
       "      <th>Text Review</th>\n",
       "      <th>Sentiment Labels</th>\n",
       "    </tr>\n",
       "  </thead>\n",
       "  <tbody>\n",
       "    <tr>\n",
       "      <th>0</th>\n",
       "      <td>Wow... Loved this place.</td>\n",
       "      <td>1</td>\n",
       "    </tr>\n",
       "    <tr>\n",
       "      <th>1</th>\n",
       "      <td>Crust is not good.</td>\n",
       "      <td>0</td>\n",
       "    </tr>\n",
       "    <tr>\n",
       "      <th>2</th>\n",
       "      <td>Not tasty and the texture was just nasty.</td>\n",
       "      <td>0</td>\n",
       "    </tr>\n",
       "    <tr>\n",
       "      <th>3</th>\n",
       "      <td>Stopped by during the late May bank holiday of...</td>\n",
       "      <td>1</td>\n",
       "    </tr>\n",
       "    <tr>\n",
       "      <th>4</th>\n",
       "      <td>The selection on the menu was great and so wer...</td>\n",
       "      <td>1</td>\n",
       "    </tr>\n",
       "    <tr>\n",
       "      <th>5</th>\n",
       "      <td>Now I am getting angry and I want my damn pho.</td>\n",
       "      <td>0</td>\n",
       "    </tr>\n",
       "    <tr>\n",
       "      <th>6</th>\n",
       "      <td>Honeslty it didn't taste THAT fresh.</td>\n",
       "      <td>0</td>\n",
       "    </tr>\n",
       "    <tr>\n",
       "      <th>7</th>\n",
       "      <td>The potatoes were like rubber and you could te...</td>\n",
       "      <td>0</td>\n",
       "    </tr>\n",
       "    <tr>\n",
       "      <th>8</th>\n",
       "      <td>The fries were great too.</td>\n",
       "      <td>1</td>\n",
       "    </tr>\n",
       "    <tr>\n",
       "      <th>9</th>\n",
       "      <td>A great touch.</td>\n",
       "      <td>1</td>\n",
       "    </tr>\n",
       "  </tbody>\n",
       "</table>\n",
       "</div>"
      ],
      "text/plain": [
       "                                         Text Review  Sentiment Labels\n",
       "0                           Wow... Loved this place.                 1\n",
       "1                                 Crust is not good.                 0\n",
       "2          Not tasty and the texture was just nasty.                 0\n",
       "3  Stopped by during the late May bank holiday of...                 1\n",
       "4  The selection on the menu was great and so wer...                 1\n",
       "5     Now I am getting angry and I want my damn pho.                 0\n",
       "6               Honeslty it didn't taste THAT fresh.                 0\n",
       "7  The potatoes were like rubber and you could te...                 0\n",
       "8                          The fries were great too.                 1\n",
       "9                                     A great touch.                 1"
      ]
     },
     "execution_count": 8,
     "metadata": {},
     "output_type": "execute_result"
    }
   ],
   "source": [
    "df.head(10)"
   ]
  },
  {
   "cell_type": "code",
   "execution_count": 9,
   "id": "43792a63",
   "metadata": {},
   "outputs": [],
   "source": [
    "from sklearn.preprocessing import LabelEncoder\n",
    "encoder=LabelEncoder()"
   ]
  },
  {
   "cell_type": "code",
   "execution_count": 10,
   "id": "093c1d7b",
   "metadata": {},
   "outputs": [],
   "source": [
    "df['Sentiment Labels']=encoder.fit_transform(df['Sentiment Labels'])"
   ]
  },
  {
   "cell_type": "code",
   "execution_count": 11,
   "id": "b86d2608",
   "metadata": {},
   "outputs": [
    {
     "data": {
      "text/html": [
       "<div>\n",
       "<style scoped>\n",
       "    .dataframe tbody tr th:only-of-type {\n",
       "        vertical-align: middle;\n",
       "    }\n",
       "\n",
       "    .dataframe tbody tr th {\n",
       "        vertical-align: top;\n",
       "    }\n",
       "\n",
       "    .dataframe thead th {\n",
       "        text-align: right;\n",
       "    }\n",
       "</style>\n",
       "<table border=\"1\" class=\"dataframe\">\n",
       "  <thead>\n",
       "    <tr style=\"text-align: right;\">\n",
       "      <th></th>\n",
       "      <th>Text Review</th>\n",
       "      <th>Sentiment Labels</th>\n",
       "    </tr>\n",
       "  </thead>\n",
       "  <tbody>\n",
       "    <tr>\n",
       "      <th>0</th>\n",
       "      <td>Wow... Loved this place.</td>\n",
       "      <td>1</td>\n",
       "    </tr>\n",
       "    <tr>\n",
       "      <th>1</th>\n",
       "      <td>Crust is not good.</td>\n",
       "      <td>0</td>\n",
       "    </tr>\n",
       "    <tr>\n",
       "      <th>2</th>\n",
       "      <td>Not tasty and the texture was just nasty.</td>\n",
       "      <td>0</td>\n",
       "    </tr>\n",
       "    <tr>\n",
       "      <th>3</th>\n",
       "      <td>Stopped by during the late May bank holiday of...</td>\n",
       "      <td>1</td>\n",
       "    </tr>\n",
       "    <tr>\n",
       "      <th>4</th>\n",
       "      <td>The selection on the menu was great and so wer...</td>\n",
       "      <td>1</td>\n",
       "    </tr>\n",
       "    <tr>\n",
       "      <th>5</th>\n",
       "      <td>Now I am getting angry and I want my damn pho.</td>\n",
       "      <td>0</td>\n",
       "    </tr>\n",
       "    <tr>\n",
       "      <th>6</th>\n",
       "      <td>Honeslty it didn't taste THAT fresh.</td>\n",
       "      <td>0</td>\n",
       "    </tr>\n",
       "    <tr>\n",
       "      <th>7</th>\n",
       "      <td>The potatoes were like rubber and you could te...</td>\n",
       "      <td>0</td>\n",
       "    </tr>\n",
       "    <tr>\n",
       "      <th>8</th>\n",
       "      <td>The fries were great too.</td>\n",
       "      <td>1</td>\n",
       "    </tr>\n",
       "    <tr>\n",
       "      <th>9</th>\n",
       "      <td>A great touch.</td>\n",
       "      <td>1</td>\n",
       "    </tr>\n",
       "  </tbody>\n",
       "</table>\n",
       "</div>"
      ],
      "text/plain": [
       "                                         Text Review  Sentiment Labels\n",
       "0                           Wow... Loved this place.                 1\n",
       "1                                 Crust is not good.                 0\n",
       "2          Not tasty and the texture was just nasty.                 0\n",
       "3  Stopped by during the late May bank holiday of...                 1\n",
       "4  The selection on the menu was great and so wer...                 1\n",
       "5     Now I am getting angry and I want my damn pho.                 0\n",
       "6               Honeslty it didn't taste THAT fresh.                 0\n",
       "7  The potatoes were like rubber and you could te...                 0\n",
       "8                          The fries were great too.                 1\n",
       "9                                     A great touch.                 1"
      ]
     },
     "execution_count": 11,
     "metadata": {},
     "output_type": "execute_result"
    }
   ],
   "source": [
    "df.head(10)"
   ]
  },
  {
   "cell_type": "code",
   "execution_count": 12,
   "id": "db8e86ef",
   "metadata": {},
   "outputs": [],
   "source": [
    "#1-positive 2-negative"
   ]
  },
  {
   "cell_type": "code",
   "execution_count": 13,
   "id": "2fa69020",
   "metadata": {},
   "outputs": [
    {
     "data": {
      "text/plain": [
       "Text Review         0\n",
       "Sentiment Labels    0\n",
       "dtype: int64"
      ]
     },
     "execution_count": 13,
     "metadata": {},
     "output_type": "execute_result"
    }
   ],
   "source": [
    "#missing values\n",
    "df.isnull().sum()"
   ]
  },
  {
   "cell_type": "code",
   "execution_count": 14,
   "id": "97fdd38d",
   "metadata": {},
   "outputs": [
    {
     "data": {
      "text/plain": [
       "612"
      ]
     },
     "execution_count": 14,
     "metadata": {},
     "output_type": "execute_result"
    }
   ],
   "source": [
    "#check for duplicates\n",
    "df.duplicated().sum()"
   ]
  },
  {
   "cell_type": "code",
   "execution_count": 15,
   "id": "fd87e7d4",
   "metadata": {},
   "outputs": [],
   "source": [
    "#remove duplicates\n",
    "df.drop_duplicates(keep='first',inplace=True)"
   ]
  },
  {
   "cell_type": "code",
   "execution_count": 16,
   "id": "e77f6868",
   "metadata": {},
   "outputs": [
    {
     "data": {
      "text/plain": [
       "0"
      ]
     },
     "execution_count": 16,
     "metadata": {},
     "output_type": "execute_result"
    }
   ],
   "source": [
    "df.duplicated().sum()"
   ]
  },
  {
   "cell_type": "code",
   "execution_count": 17,
   "id": "bd0fcf28",
   "metadata": {},
   "outputs": [
    {
     "data": {
      "text/plain": [
       "(1608, 2)"
      ]
     },
     "execution_count": 17,
     "metadata": {},
     "output_type": "execute_result"
    }
   ],
   "source": [
    "df.shape"
   ]
  },
  {
   "cell_type": "markdown",
   "id": "49730b8d",
   "metadata": {},
   "source": [
    "## EDA"
   ]
  },
  {
   "cell_type": "code",
   "execution_count": 18,
   "id": "cb5f1184",
   "metadata": {},
   "outputs": [],
   "source": [
    "import matplotlib.pyplot as plt"
   ]
  },
  {
   "cell_type": "code",
   "execution_count": 19,
   "id": "c98409e2",
   "metadata": {},
   "outputs": [
    {
     "data": {
      "image/png": "[encoded data removed]",
      "text/plain": [
       "<Figure size 640x480 with 1 Axes>"
      ]
     },
     "metadata": {},
     "output_type": "display_data"
    }
   ],
   "source": [
    "plt.pie(df['Sentiment Labels'].value_counts(),labels=['positive','negative'],autopct=\"%0.2f\")\n",
    "plt.show()"
   ]
  },
  {
   "cell_type": "markdown",
   "id": "f03037ba",
   "metadata": {},
   "source": [
    "## Transformation\n"
   ]
  },
  {
   "cell_type": "code",
   "execution_count": 20,
   "id": "41a4d4ca",
   "metadata": {},
   "outputs": [],
   "source": [
    "ps=PorterStemmer()\n",
    "def transform_text(text):\n",
    "    #Lower Case\n",
    "    text=text.lower()\n",
    "    #Tokenization\n",
    "    text=nltk.word_tokenize(text)\n",
    "    \n",
    "    y=[]\n",
    "    for i in text:\n",
    "        if i.isalnum():\n",
    "            y.append(i)\n",
    "            \n",
    "    text=y[:]\n",
    "    y.clear()\n",
    "    #Stopwords Removal\n",
    "    for i in text:\n",
    "        if i not in stopwords.words('english') and i not in string.punctuation:\n",
    "            y.append(i)\n",
    "            \n",
    "    text=y[:]\n",
    "    y.clear()\n",
    "    #Stemming\n",
    "    for i in text:\n",
    "        y.append(ps.stem(i))\n",
    "        \n",
    "    return \" \".join(y)"
   ]
  },
  {
   "cell_type": "code",
   "execution_count": 21,
   "id": "836b7a95",
   "metadata": {},
   "outputs": [],
   "source": [
    "df['Transformed Text Reviews']=df['Text Review'].apply(transform_text)"
   ]
  },
  {
   "cell_type": "code",
   "execution_count": 22,
   "id": "cee5e253",
   "metadata": {},
   "outputs": [
    {
     "data": {
      "text/html": [
       "<div>\n",
       "<style scoped>\n",
       "    .dataframe tbody tr th:only-of-type {\n",
       "        vertical-align: middle;\n",
       "    }\n",
       "\n",
       "    .dataframe tbody tr th {\n",
       "        vertical-align: top;\n",
       "    }\n",
       "\n",
       "    .dataframe thead th {\n",
       "        text-align: right;\n",
       "    }\n",
       "</style>\n",
       "<table border=\"1\" class=\"dataframe\">\n",
       "  <thead>\n",
       "    <tr style=\"text-align: right;\">\n",
       "      <th></th>\n",
       "      <th>Text Review</th>\n",
       "      <th>Sentiment Labels</th>\n",
       "      <th>Transformed Text Reviews</th>\n",
       "    </tr>\n",
       "  </thead>\n",
       "  <tbody>\n",
       "    <tr>\n",
       "      <th>0</th>\n",
       "      <td>Wow... Loved this place.</td>\n",
       "      <td>1</td>\n",
       "      <td>wow love place</td>\n",
       "    </tr>\n",
       "    <tr>\n",
       "      <th>1</th>\n",
       "      <td>Crust is not good.</td>\n",
       "      <td>0</td>\n",
       "      <td>crust good</td>\n",
       "    </tr>\n",
       "    <tr>\n",
       "      <th>2</th>\n",
       "      <td>Not tasty and the texture was just nasty.</td>\n",
       "      <td>0</td>\n",
       "      <td>tasti textur nasti</td>\n",
       "    </tr>\n",
       "    <tr>\n",
       "      <th>3</th>\n",
       "      <td>Stopped by during the late May bank holiday of...</td>\n",
       "      <td>1</td>\n",
       "      <td>stop late may bank holiday rick steve recommen...</td>\n",
       "    </tr>\n",
       "    <tr>\n",
       "      <th>4</th>\n",
       "      <td>The selection on the menu was great and so wer...</td>\n",
       "      <td>1</td>\n",
       "      <td>select menu great price</td>\n",
       "    </tr>\n",
       "  </tbody>\n",
       "</table>\n",
       "</div>"
      ],
      "text/plain": [
       "                                         Text Review  Sentiment Labels  \\\n",
       "0                           Wow... Loved this place.                 1   \n",
       "1                                 Crust is not good.                 0   \n",
       "2          Not tasty and the texture was just nasty.                 0   \n",
       "3  Stopped by during the late May bank holiday of...                 1   \n",
       "4  The selection on the menu was great and so wer...                 1   \n",
       "\n",
       "                            Transformed Text Reviews  \n",
       "0                                     wow love place  \n",
       "1                                         crust good  \n",
       "2                                 tasti textur nasti  \n",
       "3  stop late may bank holiday rick steve recommen...  \n",
       "4                            select menu great price  "
      ]
     },
     "execution_count": 22,
     "metadata": {},
     "output_type": "execute_result"
    }
   ],
   "source": [
    "df.head()"
   ]
  },
  {
   "cell_type": "markdown",
   "id": "af5fa10a",
   "metadata": {},
   "source": [
    "## 2. Feature Engineering"
   ]
  },
  {
   "cell_type": "code",
   "execution_count": 23,
   "id": "be685a48",
   "metadata": {},
   "outputs": [],
   "source": [
    "from sklearn.feature_extraction.text import CountVectorizer, TfidfVectorizer\n",
    "\n",
    "#TFIDF\n",
    "tfidf=TfidfVectorizer(max_features=3000)"
   ]
  },
  {
   "cell_type": "code",
   "execution_count": 24,
   "id": "6e190be3",
   "metadata": {},
   "outputs": [],
   "source": [
    "X=tfidf.fit_transform(df['Transformed Text Reviews']).toarray()"
   ]
  },
  {
   "cell_type": "code",
   "execution_count": 25,
   "id": "3bdfecc5",
   "metadata": {},
   "outputs": [
    {
     "data": {
      "text/plain": [
       "(1608, 1746)"
      ]
     },
     "execution_count": 25,
     "metadata": {},
     "output_type": "execute_result"
    }
   ],
   "source": [
    "X.shape"
   ]
  },
  {
   "cell_type": "code",
   "execution_count": 26,
   "id": "dbb42d87",
   "metadata": {},
   "outputs": [],
   "source": [
    "#Count Vectorizer\n",
    "count_vectorizer=CountVectorizer(max_features=3000)"
   ]
  },
  {
   "cell_type": "code",
   "execution_count": 27,
   "id": "17e5b275",
   "metadata": {},
   "outputs": [],
   "source": [
    "Z=count_vectorizer.fit_transform(df['Transformed Text Reviews']).toarray()"
   ]
  },
  {
   "cell_type": "code",
   "execution_count": 28,
   "id": "b53c000d",
   "metadata": {},
   "outputs": [
    {
     "data": {
      "text/plain": [
       "(1608, 1746)"
      ]
     },
     "execution_count": 28,
     "metadata": {},
     "output_type": "execute_result"
    }
   ],
   "source": [
    "Z.shape"
   ]
  },
  {
   "cell_type": "code",
   "execution_count": 29,
   "id": "2444a53b",
   "metadata": {},
   "outputs": [],
   "source": [
    "y=df['Sentiment Labels'].values"
   ]
  },
  {
   "cell_type": "code",
   "execution_count": 30,
   "id": "e8fa9821",
   "metadata": {},
   "outputs": [
    {
     "data": {
      "text/plain": [
       "array([1, 0, 0, ..., 0, 0, 0], dtype=int64)"
      ]
     },
     "execution_count": 30,
     "metadata": {},
     "output_type": "execute_result"
    }
   ],
   "source": [
    "y"
   ]
  },
  {
   "cell_type": "markdown",
   "id": "f35deeb3",
   "metadata": {},
   "source": [
    "## 3. Model Selection"
   ]
  },
  {
   "cell_type": "code",
   "execution_count": 31,
   "id": "c0a82811",
   "metadata": {},
   "outputs": [],
   "source": [
    "from sklearn.linear_model import LogisticRegression\n",
    "from sklearn.svm import SVC\n",
    "from sklearn.tree import DecisionTreeClassifier\n",
    "from sklearn.neighbors import KNeighborsClassifier"
   ]
  },
  {
   "cell_type": "code",
   "execution_count": 32,
   "id": "d7ecf0a9",
   "metadata": {},
   "outputs": [],
   "source": [
    "lrc=LogisticRegression(solver='liblinear',penalty='l1')\n",
    "svc=SVC(kernel='sigmoid',gamma=1.0)\n",
    "dtc=DecisionTreeClassifier(max_depth=5)\n",
    "knc=KNeighborsClassifier()\n"
   ]
  },
  {
   "cell_type": "code",
   "execution_count": 33,
   "id": "cf08f821",
   "metadata": {},
   "outputs": [],
   "source": [
    "clfs={\n",
    "    'LR':lrc,\n",
    "    'SVM':svc,\n",
    "    'DT':dtc,\n",
    "    'KNN':knc\n",
    "}"
   ]
  },
  {
   "cell_type": "markdown",
   "id": "b02061af",
   "metadata": {},
   "source": [
    "## 4. Model Training"
   ]
  },
  {
   "cell_type": "markdown",
   "id": "9558139d",
   "metadata": {},
   "source": [
    "## TFIDF Training using CV and train test split"
   ]
  },
  {
   "cell_type": "code",
   "execution_count": 34,
   "id": "6c8991f2",
   "metadata": {},
   "outputs": [],
   "source": [
    "from sklearn.model_selection import train_test_split\n",
    "from sklearn.metrics import classification_report, confusion_matrix"
   ]
  },
  {
   "cell_type": "code",
   "execution_count": 35,
   "id": "0b185ab2",
   "metadata": {},
   "outputs": [],
   "source": [
    "X_train, X_test, y_train,y_test=train_test_split(X,y,test_size=0.2, random_state=2)"
   ]
  },
  {
   "cell_type": "code",
   "execution_count": 36,
   "id": "cec6022a",
   "metadata": {},
   "outputs": [],
   "source": [
    "def train_classifier(clf, X_train, y_train, X_test, y_test):\n",
    "    clf.fit(X_train, y_train)\n",
    "    y_pred=clf.predict(X_test)\n",
    "    report=classification_report(y_test, y_pred)\n",
    "    print('Confusion matrix:')\n",
    "    print(confusion_matrix(y_test, y_pred))\n",
    "    \n",
    "    return report"
   ]
  },
  {
   "cell_type": "code",
   "execution_count": 37,
   "id": "345659d9",
   "metadata": {},
   "outputs": [
    {
     "name": "stdout",
     "output_type": "stream",
     "text": [
      "Confusion matrix:\n",
      "[[168  14]\n",
      " [ 46  94]]\n",
      "For  LR\n",
      "Classification Report - \n",
      "              precision    recall  f1-score   support\n",
      "\n",
      "           0       0.79      0.92      0.85       182\n",
      "           1       0.87      0.67      0.76       140\n",
      "\n",
      "    accuracy                           0.81       322\n",
      "   macro avg       0.83      0.80      0.80       322\n",
      "weighted avg       0.82      0.81      0.81       322\n",
      "\n",
      "Confusion matrix:\n",
      "[[166  16]\n",
      " [ 28 112]]\n",
      "For  SVM\n",
      "Classification Report - \n",
      "              precision    recall  f1-score   support\n",
      "\n",
      "           0       0.86      0.91      0.88       182\n",
      "           1       0.88      0.80      0.84       140\n",
      "\n",
      "    accuracy                           0.86       322\n",
      "   macro avg       0.87      0.86      0.86       322\n",
      "weighted avg       0.86      0.86      0.86       322\n",
      "\n",
      "Confusion matrix:\n",
      "[[175   7]\n",
      " [109  31]]\n",
      "For  DT\n",
      "Classification Report - \n",
      "              precision    recall  f1-score   support\n",
      "\n",
      "           0       0.62      0.96      0.75       182\n",
      "           1       0.82      0.22      0.35       140\n",
      "\n",
      "    accuracy                           0.64       322\n",
      "   macro avg       0.72      0.59      0.55       322\n",
      "weighted avg       0.70      0.64      0.58       322\n",
      "\n",
      "Confusion matrix:\n",
      "[[167  15]\n",
      " [ 43  97]]\n",
      "For  KNN\n",
      "Classification Report - \n",
      "              precision    recall  f1-score   support\n",
      "\n",
      "           0       0.80      0.92      0.85       182\n",
      "           1       0.87      0.69      0.77       140\n",
      "\n",
      "    accuracy                           0.82       322\n",
      "   macro avg       0.83      0.81      0.81       322\n",
      "weighted avg       0.83      0.82      0.82       322\n",
      "\n"
     ]
    }
   ],
   "source": [
    "metrics_report=[]\n",
    "for name, clf in clfs.items():\n",
    "    current_report=train_classifier(clf, X_train, y_train, X_test, y_test)\n",
    "    \n",
    "    print(\"For \",name)\n",
    "    print(\"Classification Report - \")\n",
    "    print(current_report)\n",
    "    \n",
    "    metrics_report.append(current_report)"
   ]
  },
  {
   "cell_type": "code",
   "execution_count": 38,
   "id": "034d33f9",
   "metadata": {},
   "outputs": [],
   "source": [
    "# Cross-validation\n",
    "from sklearn.model_selection import cross_val_predict\n",
    "from sklearn.metrics import classification_report\n",
    "def train_classifier_cv(clf, X,y):\n",
    "    y_pred=cross_val_predict(clf, X, y, cv=5)\n",
    "    print('Confusion matrix:')\n",
    "    print(confusion_matrix(y, y_pred))\n",
    "    \n",
    "    \n",
    "    return y_pred"
   ]
  },
  {
   "cell_type": "code",
   "execution_count": 39,
   "id": "8df9f60c",
   "metadata": {},
   "outputs": [
    {
     "name": "stdout",
     "output_type": "stream",
     "text": [
      "Confusion matrix:\n",
      "[[864  68]\n",
      " [303 373]]\n",
      "For  LR\n",
      "Classification Report - \n",
      "              precision    recall  f1-score   support\n",
      "\n",
      "           0       0.74      0.93      0.82       932\n",
      "           1       0.85      0.55      0.67       676\n",
      "\n",
      "    accuracy                           0.77      1608\n",
      "   macro avg       0.79      0.74      0.75      1608\n",
      "weighted avg       0.78      0.77      0.76      1608\n",
      "\n",
      "Confusion matrix:\n",
      "[[834  98]\n",
      " [180 496]]\n",
      "For  SVM\n",
      "Classification Report - \n",
      "              precision    recall  f1-score   support\n",
      "\n",
      "           0       0.82      0.89      0.86       932\n",
      "           1       0.84      0.73      0.78       676\n",
      "\n",
      "    accuracy                           0.83      1608\n",
      "   macro avg       0.83      0.81      0.82      1608\n",
      "weighted avg       0.83      0.83      0.83      1608\n",
      "\n",
      "Confusion matrix:\n",
      "[[905  27]\n",
      " [530 146]]\n",
      "For  DT\n",
      "Classification Report - \n",
      "              precision    recall  f1-score   support\n",
      "\n",
      "           0       0.63      0.97      0.76       932\n",
      "           1       0.84      0.22      0.34       676\n",
      "\n",
      "    accuracy                           0.65      1608\n",
      "   macro avg       0.74      0.59      0.55      1608\n",
      "weighted avg       0.72      0.65      0.59      1608\n",
      "\n",
      "Confusion matrix:\n",
      "[[828 104]\n",
      " [248 428]]\n",
      "For  KNN\n",
      "Classification Report - \n",
      "              precision    recall  f1-score   support\n",
      "\n",
      "           0       0.77      0.89      0.82       932\n",
      "           1       0.80      0.63      0.71       676\n",
      "\n",
      "    accuracy                           0.78      1608\n",
      "   macro avg       0.79      0.76      0.77      1608\n",
      "weighted avg       0.78      0.78      0.78      1608\n",
      "\n"
     ]
    }
   ],
   "source": [
    "metrics_report=[]\n",
    "for name, clf in clfs.items():\n",
    "    y_pred=train_classifier_cv(clf, X, y)\n",
    "    \n",
    "    report=classification_report(y,y_pred)\n",
    "    print(\"For \",name)\n",
    "    print(\"Classification Report - \")\n",
    "    print(report)"
   ]
  },
  {
   "cell_type": "markdown",
   "id": "7ff18e44",
   "metadata": {},
   "source": [
    "## After Balancing TFIDF (train-test and CV)"
   ]
  },
  {
   "cell_type": "code",
   "execution_count": 46,
   "id": "93904d39",
   "metadata": {},
   "outputs": [],
   "source": [
    "from imblearn.over_sampling import SMOTE\n",
    "from imblearn.over_sampling import SMOTE\n",
    "sm=SMOTE()\n",
    "X_res, y_res=sm.fit_resample(X_train, y_train)\n"
   ]
  },
  {
   "cell_type": "code",
   "execution_count": 47,
   "id": "c24189f0",
   "metadata": {},
   "outputs": [
    {
     "name": "stdout",
     "output_type": "stream",
     "text": [
      "Value: 0 - Count: 750\n",
      "Value: 1 - Count: 750\n"
     ]
    }
   ],
   "source": [
    "import numpy as np\n",
    "unique_values, counts=np.unique(y_res, return_counts=True)\n",
    "for value, count in zip(unique_values,counts):\n",
    "    print(\"Value:\", value, \"- Count:\",count)"
   ]
  },
  {
   "cell_type": "code",
   "execution_count": 48,
   "id": "f406c650",
   "metadata": {},
   "outputs": [],
   "source": [
    "def train_classifier(clf, X_res, y_res):\n",
    "    clf.fit(X_res, y_res)\n",
    "    y_pred=clf.predict(X_res)\n",
    "    report=classification_report(y_res, y_pred)\n",
    "    print('Confusion matrix:')\n",
    "    print(confusion_matrix(y_res, y_pred))\n",
    "    \n",
    "    return report"
   ]
  },
  {
   "cell_type": "code",
   "execution_count": 49,
   "id": "9747cc5b",
   "metadata": {},
   "outputs": [
    {
     "name": "stdout",
     "output_type": "stream",
     "text": [
      "Confusion matrix:\n",
      "[[648 102]\n",
      " [ 31 719]]\n",
      "For  LR\n",
      "Classification Report - \n",
      "              precision    recall  f1-score   support\n",
      "\n",
      "           0       0.95      0.86      0.91       750\n",
      "           1       0.88      0.96      0.92       750\n",
      "\n",
      "    accuracy                           0.91      1500\n",
      "   macro avg       0.92      0.91      0.91      1500\n",
      "weighted avg       0.92      0.91      0.91      1500\n",
      "\n",
      "Confusion matrix:\n",
      "[[511 239]\n",
      " [220 530]]\n",
      "For  SVM\n",
      "Classification Report - \n",
      "              precision    recall  f1-score   support\n",
      "\n",
      "           0       0.70      0.68      0.69       750\n",
      "           1       0.69      0.71      0.70       750\n",
      "\n",
      "    accuracy                           0.69      1500\n",
      "   macro avg       0.69      0.69      0.69      1500\n",
      "weighted avg       0.69      0.69      0.69      1500\n",
      "\n",
      "Confusion matrix:\n",
      "[[120 630]\n",
      " [  0 750]]\n",
      "For  DT\n",
      "Classification Report - \n",
      "              precision    recall  f1-score   support\n",
      "\n",
      "           0       1.00      0.16      0.28       750\n",
      "           1       0.54      1.00      0.70       750\n",
      "\n",
      "    accuracy                           0.58      1500\n",
      "   macro avg       0.77      0.58      0.49      1500\n",
      "weighted avg       0.77      0.58      0.49      1500\n",
      "\n",
      "Confusion matrix:\n",
      "[[329 421]\n",
      " [  5 745]]\n",
      "For  KNN\n",
      "Classification Report - \n",
      "              precision    recall  f1-score   support\n",
      "\n",
      "           0       0.99      0.44      0.61       750\n",
      "           1       0.64      0.99      0.78       750\n",
      "\n",
      "    accuracy                           0.72      1500\n",
      "   macro avg       0.81      0.72      0.69      1500\n",
      "weighted avg       0.81      0.72      0.69      1500\n",
      "\n"
     ]
    }
   ],
   "source": [
    "metrics_report=[]\n",
    "for name, clf in clfs.items():\n",
    "    current_report=train_classifier(clf, X_res, y_res)\n",
    "    \n",
    "    print(\"For \",name)\n",
    "    print(\"Classification Report - \")\n",
    "    print(current_report)\n",
    "    \n",
    "    metrics_report.append(current_report)"
   ]
  },
  {
   "cell_type": "code",
   "execution_count": 50,
   "id": "aa73a666",
   "metadata": {},
   "outputs": [],
   "source": [
    "# Cross-validation\n",
    "from sklearn.model_selection import cross_val_predict\n",
    "from sklearn.metrics import classification_report\n",
    "def train_classifier_cv(clf, X_res,y_res):\n",
    "    y_pred=cross_val_predict(clf, X_res, y_res, cv=5)\n",
    "    print('Confusion matrix:')\n",
    "    print(confusion_matrix(y_res, y_pred))\n",
    "    \n",
    "    return y_pred"
   ]
  },
  {
   "cell_type": "code",
   "execution_count": 51,
   "id": "6bfbae35",
   "metadata": {},
   "outputs": [
    {
     "name": "stdout",
     "output_type": "stream",
     "text": [
      "Confusion matrix:\n",
      "[[561 189]\n",
      " [123 627]]\n",
      "For  LR\n",
      "Classification Report - \n",
      "              precision    recall  f1-score   support\n",
      "\n",
      "           0       0.82      0.75      0.78       750\n",
      "           1       0.77      0.84      0.80       750\n",
      "\n",
      "    accuracy                           0.79      1500\n",
      "   macro avg       0.79      0.79      0.79      1500\n",
      "weighted avg       0.79      0.79      0.79      1500\n",
      "\n",
      "Confusion matrix:\n",
      "[[539 211]\n",
      " [251 499]]\n",
      "For  SVM\n",
      "Classification Report - \n",
      "              precision    recall  f1-score   support\n",
      "\n",
      "           0       0.68      0.72      0.70       750\n",
      "           1       0.70      0.67      0.68       750\n",
      "\n",
      "    accuracy                           0.69      1500\n",
      "   macro avg       0.69      0.69      0.69      1500\n",
      "weighted avg       0.69      0.69      0.69      1500\n",
      "\n",
      "Confusion matrix:\n",
      "[[483 267]\n",
      " [362 388]]\n",
      "For  DT\n",
      "Classification Report - \n",
      "              precision    recall  f1-score   support\n",
      "\n",
      "           0       0.57      0.64      0.61       750\n",
      "           1       0.59      0.52      0.55       750\n",
      "\n",
      "    accuracy                           0.58      1500\n",
      "   macro avg       0.58      0.58      0.58      1500\n",
      "weighted avg       0.58      0.58      0.58      1500\n",
      "\n",
      "Confusion matrix:\n",
      "[[195 555]\n",
      " [  4 746]]\n",
      "For  KNN\n",
      "Classification Report - \n",
      "              precision    recall  f1-score   support\n",
      "\n",
      "           0       0.98      0.26      0.41       750\n",
      "           1       0.57      0.99      0.73       750\n",
      "\n",
      "    accuracy                           0.63      1500\n",
      "   macro avg       0.78      0.63      0.57      1500\n",
      "weighted avg       0.78      0.63      0.57      1500\n",
      "\n"
     ]
    }
   ],
   "source": [
    "for name, clf in clfs.items():\n",
    "    y_pred=train_classifier_cv(clf, X_res, y_res)\n",
    "    \n",
    "    report=classification_report(y_res,y_pred)\n",
    "    print(\"For \",name)\n",
    "    print(\"Classification Report - \")\n",
    "    print(report)"
   ]
  },
  {
   "cell_type": "markdown",
   "id": "c9cec134",
   "metadata": {},
   "source": [
    "## Count Vectorizer Training using CV and train test split"
   ]
  },
  {
   "cell_type": "code",
   "execution_count": 40,
   "id": "c735fc50",
   "metadata": {},
   "outputs": [],
   "source": [
    "from sklearn.model_selection import train_test_split\n",
    "from sklearn.metrics import classification_report"
   ]
  },
  {
   "cell_type": "code",
   "execution_count": 41,
   "id": "1b2723c6",
   "metadata": {},
   "outputs": [],
   "source": [
    "X_train, X_test, y_train,y_test=train_test_split(Z,y,test_size=0.2, random_state=2)"
   ]
  },
  {
   "cell_type": "code",
   "execution_count": 42,
   "id": "a86a9841",
   "metadata": {},
   "outputs": [],
   "source": [
    "def train_classifier(clf, X_train, y_train, X_test, y_test):\n",
    "    clf.fit(X_train, y_train)\n",
    "    y_pred=clf.predict(X_test)\n",
    "    report=classification_report(y_test, y_pred)\n",
    "    print('Confusion matrix:')\n",
    "    print(confusion_matrix(y_test, y_pred))\n",
    "    return report"
   ]
  },
  {
   "cell_type": "code",
   "execution_count": 43,
   "id": "fe0d92b0",
   "metadata": {},
   "outputs": [
    {
     "name": "stdout",
     "output_type": "stream",
     "text": [
      "Confusion matrix:\n",
      "[[166  16]\n",
      " [ 32 108]]\n",
      "For  LR\n",
      "Classification Report - \n",
      "              precision    recall  f1-score   support\n",
      "\n",
      "           0       0.84      0.91      0.87       182\n",
      "           1       0.87      0.77      0.82       140\n",
      "\n",
      "    accuracy                           0.85       322\n",
      "   macro avg       0.85      0.84      0.85       322\n",
      "weighted avg       0.85      0.85      0.85       322\n",
      "\n",
      "Confusion matrix:\n",
      "[[137  45]\n",
      " [ 50  90]]\n",
      "For  SVM\n",
      "Classification Report - \n",
      "              precision    recall  f1-score   support\n",
      "\n",
      "           0       0.73      0.75      0.74       182\n",
      "           1       0.67      0.64      0.65       140\n",
      "\n",
      "    accuracy                           0.70       322\n",
      "   macro avg       0.70      0.70      0.70       322\n",
      "weighted avg       0.70      0.70      0.70       322\n",
      "\n",
      "Confusion matrix:\n",
      "[[175   7]\n",
      " [101  39]]\n",
      "For  DT\n",
      "Classification Report - \n",
      "              precision    recall  f1-score   support\n",
      "\n",
      "           0       0.63      0.96      0.76       182\n",
      "           1       0.85      0.28      0.42       140\n",
      "\n",
      "    accuracy                           0.66       322\n",
      "   macro avg       0.74      0.62      0.59       322\n",
      "weighted avg       0.73      0.66      0.61       322\n",
      "\n",
      "Confusion matrix:\n",
      "[[156  26]\n",
      " [ 51  89]]\n",
      "For  KNN\n",
      "Classification Report - \n",
      "              precision    recall  f1-score   support\n",
      "\n",
      "           0       0.75      0.86      0.80       182\n",
      "           1       0.77      0.64      0.70       140\n",
      "\n",
      "    accuracy                           0.76       322\n",
      "   macro avg       0.76      0.75      0.75       322\n",
      "weighted avg       0.76      0.76      0.76       322\n",
      "\n"
     ]
    }
   ],
   "source": [
    "metrics_report=[]\n",
    "for name, clf in clfs.items():\n",
    "    current_report=train_classifier(clf, X_train, y_train, X_test, y_test)\n",
    "    \n",
    "    print(\"For \",name)\n",
    "    print(\"Classification Report - \")\n",
    "    print(current_report)\n",
    "    metrics_report.append(current_report)"
   ]
  },
  {
   "cell_type": "code",
   "execution_count": 44,
   "id": "c05accc2",
   "metadata": {},
   "outputs": [],
   "source": [
    "# Cross-validation\n",
    "from sklearn.model_selection import cross_val_predict\n",
    "from sklearn.metrics import classification_report\n",
    "def train_classifier_cv(clf, Z,y):\n",
    "    y_pred=cross_val_predict(clf, Z, y, cv=5)\n",
    "    print('Confusion matrix:')\n",
    "    print(confusion_matrix(y, y_pred))\n",
    "    \n",
    "    \n",
    "    return y_pred"
   ]
  },
  {
   "cell_type": "code",
   "execution_count": 45,
   "id": "32a97d0e",
   "metadata": {},
   "outputs": [
    {
     "name": "stdout",
     "output_type": "stream",
     "text": [
      "Confusion matrix:\n",
      "[[846  86]\n",
      " [218 458]]\n",
      "For  LR\n",
      "Classification Report - \n",
      "              precision    recall  f1-score   support\n",
      "\n",
      "           0       0.80      0.91      0.85       932\n",
      "           1       0.84      0.68      0.75       676\n",
      "\n",
      "    accuracy                           0.81      1608\n",
      "   macro avg       0.82      0.79      0.80      1608\n",
      "weighted avg       0.81      0.81      0.81      1608\n",
      "\n",
      "Confusion matrix:\n",
      "[[740 192]\n",
      " [249 427]]\n",
      "For  SVM\n",
      "Classification Report - \n",
      "              precision    recall  f1-score   support\n",
      "\n",
      "           0       0.75      0.79      0.77       932\n",
      "           1       0.69      0.63      0.66       676\n",
      "\n",
      "    accuracy                           0.73      1608\n",
      "   macro avg       0.72      0.71      0.71      1608\n",
      "weighted avg       0.72      0.73      0.72      1608\n",
      "\n",
      "Confusion matrix:\n",
      "[[902  30]\n",
      " [522 154]]\n",
      "For  DT\n",
      "Classification Report - \n",
      "              precision    recall  f1-score   support\n",
      "\n",
      "           0       0.63      0.97      0.77       932\n",
      "           1       0.84      0.23      0.36       676\n",
      "\n",
      "    accuracy                           0.66      1608\n",
      "   macro avg       0.74      0.60      0.56      1608\n",
      "weighted avg       0.72      0.66      0.59      1608\n",
      "\n",
      "Confusion matrix:\n",
      "[[756 176]\n",
      " [286 390]]\n",
      "For  KNN\n",
      "Classification Report - \n",
      "              precision    recall  f1-score   support\n",
      "\n",
      "           0       0.73      0.81      0.77       932\n",
      "           1       0.69      0.58      0.63       676\n",
      "\n",
      "    accuracy                           0.71      1608\n",
      "   macro avg       0.71      0.69      0.70      1608\n",
      "weighted avg       0.71      0.71      0.71      1608\n",
      "\n"
     ]
    }
   ],
   "source": [
    "for name, clf in clfs.items():\n",
    "    y_pred=train_classifier_cv(clf, Z, y)\n",
    "    \n",
    "    report=classification_report(y,y_pred)\n",
    "    print(\"For \",name)\n",
    "    print(\"Classification Report - \")\n",
    "    print(report)"
   ]
  },
  {
   "cell_type": "markdown",
   "id": "435ab4e2",
   "metadata": {},
   "source": [
    "## After Balancing Count Vectorizer (train-test and CV)"
   ]
  },
  {
   "cell_type": "code",
   "execution_count": 52,
   "id": "2c238e9d",
   "metadata": {},
   "outputs": [],
   "source": [
    "from imblearn.over_sampling import SMOTE\n",
    "from imblearn.over_sampling import SMOTE\n",
    "sm=SMOTE()\n",
    "Z_res, y_res=sm.fit_resample(X_train, y_train)\n"
   ]
  },
  {
   "cell_type": "code",
   "execution_count": 53,
   "id": "a8a02b2a",
   "metadata": {},
   "outputs": [
    {
     "name": "stdout",
     "output_type": "stream",
     "text": [
      "Value: 0 - Count: 750\n",
      "Value: 1 - Count: 750\n"
     ]
    }
   ],
   "source": [
    "import numpy as np\n",
    "unique_values, counts=np.unique(y_res, return_counts=True)\n",
    "for value, count in zip(unique_values,counts):\n",
    "    print(\"Value:\", value, \"- Count:\",count)"
   ]
  },
  {
   "cell_type": "code",
   "execution_count": 54,
   "id": "e5b03606",
   "metadata": {},
   "outputs": [],
   "source": [
    "def train_classifier(clf, Z_res, y_res):\n",
    "    clf.fit(Z_res, y_res)\n",
    "    y_pred=clf.predict(Z_res)\n",
    "    report=classification_report(y_res, y_pred)\n",
    "    print('Confusion matrix:')\n",
    "    print(confusion_matrix(y_res, y_pred))\n",
    "    \n",
    "    return report"
   ]
  },
  {
   "cell_type": "code",
   "execution_count": 55,
   "id": "b5fa3ae6",
   "metadata": {},
   "outputs": [
    {
     "name": "stdout",
     "output_type": "stream",
     "text": [
      "Confusion matrix:\n",
      "[[648 102]\n",
      " [ 31 719]]\n",
      "For  LR\n",
      "Classification Report - \n",
      "              precision    recall  f1-score   support\n",
      "\n",
      "           0       0.95      0.86      0.91       750\n",
      "           1       0.88      0.96      0.92       750\n",
      "\n",
      "    accuracy                           0.91      1500\n",
      "   macro avg       0.92      0.91      0.91      1500\n",
      "weighted avg       0.92      0.91      0.91      1500\n",
      "\n",
      "Confusion matrix:\n",
      "[[500 250]\n",
      " [200 550]]\n",
      "For  SVM\n",
      "Classification Report - \n",
      "              precision    recall  f1-score   support\n",
      "\n",
      "           0       0.71      0.67      0.69       750\n",
      "           1       0.69      0.73      0.71       750\n",
      "\n",
      "    accuracy                           0.70      1500\n",
      "   macro avg       0.70      0.70      0.70      1500\n",
      "weighted avg       0.70      0.70      0.70      1500\n",
      "\n",
      "Confusion matrix:\n",
      "[[120 630]\n",
      " [  0 750]]\n",
      "For  DT\n",
      "Classification Report - \n",
      "              precision    recall  f1-score   support\n",
      "\n",
      "           0       1.00      0.16      0.28       750\n",
      "           1       0.54      1.00      0.70       750\n",
      "\n",
      "    accuracy                           0.58      1500\n",
      "   macro avg       0.77      0.58      0.49      1500\n",
      "weighted avg       0.77      0.58      0.49      1500\n",
      "\n",
      "Confusion matrix:\n",
      "[[313 437]\n",
      " [  1 749]]\n",
      "For  KNN\n",
      "Classification Report - \n",
      "              precision    recall  f1-score   support\n",
      "\n",
      "           0       1.00      0.42      0.59       750\n",
      "           1       0.63      1.00      0.77       750\n",
      "\n",
      "    accuracy                           0.71      1500\n",
      "   macro avg       0.81      0.71      0.68      1500\n",
      "weighted avg       0.81      0.71      0.68      1500\n",
      "\n"
     ]
    }
   ],
   "source": [
    "metrics_report=[]\n",
    "for name, clf in clfs.items():\n",
    "    current_report=train_classifier(clf, Z_res, y_res)\n",
    "    \n",
    "    print(\"For \",name)\n",
    "    print(\"Classification Report - \")\n",
    "    print(current_report)\n",
    "    metrics_report.append(current_report)"
   ]
  },
  {
   "cell_type": "code",
   "execution_count": 56,
   "id": "ce870169",
   "metadata": {},
   "outputs": [],
   "source": [
    "# Cross-validation\n",
    "from sklearn.model_selection import cross_val_predict\n",
    "from sklearn.metrics import classification_report\n",
    "def train_classifier_cv(clf, Z_res,y_res):\n",
    "    y_pred=cross_val_predict(clf, Z_res, y_res, cv=5)\n",
    "    print('Confusion matrix:')\n",
    "    print(confusion_matrix(y_res, y_pred))\n",
    "    \n",
    "    return y_pred"
   ]
  },
  {
   "cell_type": "code",
   "execution_count": 57,
   "id": "27bb66fc",
   "metadata": {},
   "outputs": [
    {
     "name": "stdout",
     "output_type": "stream",
     "text": [
      "Confusion matrix:\n",
      "[[560 190]\n",
      " [147 603]]\n",
      "For  LR\n",
      "Classification Report - \n",
      "              precision    recall  f1-score   support\n",
      "\n",
      "           0       0.79      0.75      0.77       750\n",
      "           1       0.76      0.80      0.78       750\n",
      "\n",
      "    accuracy                           0.78      1500\n",
      "   macro avg       0.78      0.78      0.78      1500\n",
      "weighted avg       0.78      0.78      0.78      1500\n",
      "\n",
      "Confusion matrix:\n",
      "[[517 233]\n",
      " [260 490]]\n",
      "For  SVM\n",
      "Classification Report - \n",
      "              precision    recall  f1-score   support\n",
      "\n",
      "           0       0.67      0.69      0.68       750\n",
      "           1       0.68      0.65      0.67       750\n",
      "\n",
      "    accuracy                           0.67      1500\n",
      "   macro avg       0.67      0.67      0.67      1500\n",
      "weighted avg       0.67      0.67      0.67      1500\n",
      "\n",
      "Confusion matrix:\n",
      "[[488 262]\n",
      " [369 381]]\n",
      "For  DT\n",
      "Classification Report - \n",
      "              precision    recall  f1-score   support\n",
      "\n",
      "           0       0.57      0.65      0.61       750\n",
      "           1       0.59      0.51      0.55       750\n",
      "\n",
      "    accuracy                           0.58      1500\n",
      "   macro avg       0.58      0.58      0.58      1500\n",
      "weighted avg       0.58      0.58      0.58      1500\n",
      "\n",
      "Confusion matrix:\n",
      "[[193 557]\n",
      " [  6 744]]\n",
      "For  KNN\n",
      "Classification Report - \n",
      "              precision    recall  f1-score   support\n",
      "\n",
      "           0       0.97      0.26      0.41       750\n",
      "           1       0.57      0.99      0.73       750\n",
      "\n",
      "    accuracy                           0.62      1500\n",
      "   macro avg       0.77      0.62      0.57      1500\n",
      "weighted avg       0.77      0.62      0.57      1500\n",
      "\n"
     ]
    }
   ],
   "source": [
    "for name, clf in clfs.items():\n",
    "    y_pred=train_classifier_cv(clf, Z_res, y_res)\n",
    "    \n",
    "    report=classification_report(y_res,y_pred)\n",
    "    print(\"For \",name)\n",
    "    print(\"Classification Report - \")\n",
    "    print(report)"
   ]
  },
  {
   "cell_type": "markdown",
   "id": "5a931734",
   "metadata": {},
   "source": [
    "## 5. Fine Tuning"
   ]
  },
  {
   "cell_type": "code",
   "execution_count": 64,
   "id": "29edeb7a",
   "metadata": {},
   "outputs": [
    {
     "name": "stdout",
     "output_type": "stream",
     "text": [
      "Fitting 5 folds for each of 10 candidates, totalling 50 fits\n",
      "{'kernel': 'rbf', 'gamma': 'scale', 'degree': 4, 'C': 10}\n",
      "Accuracy: 0.8478260869565217\n",
      "Precision 0.8699186991869918\n"
     ]
    }
   ],
   "source": [
    "from sklearn.model_selection import RandomizedSearchCV\n",
    "from sklearn.svm import SVC\n",
    "from sklearn.metrics import accuracy_score, precision_score\n",
    "\n",
    "svm_classifier=SVC()\n",
    "\n",
    "param_dist={\n",
    "    'C':[0.1, 1, 10, 100],\n",
    "    'kernel':['linear', 'poly', 'rbf'],\n",
    "    'gamma':['scale','auto'],\n",
    "    'degree':[2,3,4],\n",
    "}\n",
    "\n",
    "random_search=RandomizedSearchCV(estimator=svm_classifier,\n",
    "                                param_distributions=param_dist,\n",
    "                                n_iter=10,\n",
    "                                cv=5,\n",
    "                                verbose=1,\n",
    "                                random_state=42,\n",
    "                                n_jobs=-1,\n",
    "                                scoring='accuracy')\n",
    "\n",
    "random_search.fit(X_train,y_train)\n",
    "\n",
    "print(random_search.best_params_)\n",
    "\n",
    "model=random_search.best_estimator_\n",
    "y_pred=model.predict(X_test)\n",
    "accuracy=accuracy_score(y_test,y_pred)\n",
    "precision=precision_score(y_test, y_pred)\n",
    "print('Accuracy:',accuracy)\n",
    "print('Precision',precision)"
   ]
  },
  {
   "cell_type": "code",
   "execution_count": null,
   "id": "6dc0f6d8",
   "metadata": {},
   "outputs": [],
   "source": []
  }
 ],
 "metadata": {
  "kernelspec": {
   "display_name": "Python 3 (ipykernel)",
   "language": "python",
   "name": "python3"
  },
  "language_info": {
   "codemirror_mode": {
    "name": "ipython",
    "version": 3
   },
   "file_extension": ".py",
   "mimetype": "text/x-python",
   "name": "python",
   "nbconvert_exporter": "python",
   "pygments_lexer": "ipython3",
   "version": "3.11.3"
  }
 },
 "nbformat": 4,
 "nbformat_minor": 5
}
